{
  "nbformat": 4,
  "nbformat_minor": 0,
  "metadata": {
    "colab": {
      "provenance": [],
      "authorship_tag": "ABX9TyMwI5ytn9DBzlKLjtIXu2y3",
      "include_colab_link": true
    },
    "kernelspec": {
      "name": "python3",
      "display_name": "Python 3"
    },
    "language_info": {
      "name": "python"
    }
  },
  "cells": [
    {
      "cell_type": "markdown",
      "metadata": {
        "id": "view-in-github",
        "colab_type": "text"
      },
      "source": [
        "<a href=\"https://colab.research.google.com/github/Venky474/demo/blob/main/MNIST.ipynb\" target=\"_parent\"><img src=\"https://colab.research.google.com/assets/colab-badge.svg\" alt=\"Open In Colab\"/></a>"
      ]
    },
    {
      "cell_type": "code",
      "execution_count": 2,
      "metadata": {
        "id": "d7cEtAkYq2IL"
      },
      "outputs": [],
      "source": [
        "import tensorflow as tf\n",
        "import numpy as np\n",
        "import matplotlib.pyplot as plt\n",
        "from tensorflow import keras\n",
        "from tensorflow.keras import layers\n",
        "from tensorflow.keras.datasets import mnist\n"
      ]
    },
    {
      "cell_type": "markdown",
      "source": [
        "# New section"
      ],
      "metadata": {
        "id": "TrbyjtEpE90X"
      }
    },
    {
      "cell_type": "code",
      "source": [
        "(x_train ,y_train), (x_test, y_test) = mnist.load_data()           #import data & reshape\n",
        "x_train = x_train.reshape(-1,28*28).astype(\"float32\")/255.0\n",
        "x_test = x_test.reshape(-1,28*28).astype(\"float32\")/255.0"
      ],
      "metadata": {
        "id": "dmYg0YyBvreY",
        "colab": {
          "base_uri": "https://localhost:8080/"
        },
        "outputId": "9489daeb-9cf9-425a-d0ca-adffe497ffc3"
      },
      "execution_count": 3,
      "outputs": [
        {
          "output_type": "stream",
          "name": "stdout",
          "text": [
            "Downloading data from https://storage.googleapis.com/tensorflow/tf-keras-datasets/mnist.npz\n",
            "\u001b[1m11490434/11490434\u001b[0m \u001b[32m━━━━━━━━━━━━━━━━━━━━\u001b[0m\u001b[37m\u001b[0m \u001b[1m0s\u001b[0m 0us/step\n"
          ]
        }
      ]
    },
    {
      "cell_type": "code",
      "source": [
        "#Sequential API                                                    # adding layers & nodes but add only single i/p & o/p\n",
        "model = keras.Sequential(\n",
        "        [\n",
        "           keras.Input(shape=(28*28,)),\n",
        "           layers.Dense(512, activation='relu'),\n",
        "           layers.Dense(256, activation='relu'),\n",
        "           layers.Dense(10),\n",
        "        ]\n",
        ")\n",
        "\n",
        "\n",
        "model = keras.Sequential()\n",
        "model.add(keras.Input(shape=(784,))),\n",
        "model.add(layers.Dense(512, activation='relu')),\n",
        "model.add(layers.Dense(256, activation='relu', name='my_layer')),\n",
        "model.add(layers.Dense(10)),\n",
        "\n",
        "model = keras.Model(inputs=model.inputs,\n",
        "                    outputs=[layer.output for layer in model.layers])\n",
        "\n",
        "features = model.predict(x_train)\n",
        "\n",
        "for feature in features:\n",
        "    print(feature.shape)\n",
        "\n",
        "#Functional API                                                     #adding multiple i/p & o/p layers\n",
        "inputs = keras.Input(shape=(784,))\n",
        "x = (layers.Dense(512, activation='relu', name='first_layer'))(inputs)\n",
        "x = (layers.Dense(256, activation='relu', name='second_layer'))(x)\n",
        "outputs = (layers.Dense(10, activation='softmax'))(x)\n",
        "model = keras.Model(inputs=inputs, outputs=outputs)\n",
        "\n",
        "\n",
        "model.compile(\n",
        "    loss=keras.losses.SparseCategoricalCrossentropy(from_logits=False),\n",
        "    optimizer = keras.optimizers.Adam(learning_rate=0.001),\n",
        "    metrics=[\"accuracy\"],\n",
        ")\n",
        "\n",
        "model.fit(x_train, y_train, batch_size=32, epochs=5, verbose=2)\n",
        "model.evaluate(x_test, y_test, batch_size=32, verbose=2)\n",
        "\n"
      ],
      "metadata": {
        "colab": {
          "base_uri": "https://localhost:8080/"
        },
        "id": "n0i8GmrXyMzm",
        "outputId": "9aa5a660-8c6d-442b-b328-d185689250da"
      },
      "execution_count": 4,
      "outputs": [
        {
          "output_type": "stream",
          "name": "stdout",
          "text": [
            "\u001b[1m  13/1875\u001b[0m \u001b[37m━━━━━━━━━━━━━━━━━━━━\u001b[0m \u001b[1m8s\u001b[0m 4ms/step    "
          ]
        },
        {
          "output_type": "stream",
          "name": "stderr",
          "text": [
            "/usr/local/lib/python3.11/dist-packages/keras/src/models/functional.py:237: UserWarning: The structure of `inputs` doesn't match the expected structure.\n",
            "Expected: ['keras_tensor_4']\n",
            "Received: inputs=Tensor(shape=(32, 784))\n",
            "  warnings.warn(msg)\n"
          ]
        },
        {
          "output_type": "stream",
          "name": "stdout",
          "text": [
            "\u001b[1m1875/1875\u001b[0m \u001b[32m━━━━━━━━━━━━━━━━━━━━\u001b[0m\u001b[37m\u001b[0m \u001b[1m9s\u001b[0m 5ms/step\n",
            "(60000, 512)\n",
            "(60000, 256)\n",
            "(60000, 10)\n",
            "Epoch 1/5\n",
            "1875/1875 - 16s - 8ms/step - accuracy: 0.9436 - loss: 0.1863\n",
            "Epoch 2/5\n",
            "1875/1875 - 22s - 12ms/step - accuracy: 0.9754 - loss: 0.0781\n",
            "Epoch 3/5\n",
            "1875/1875 - 19s - 10ms/step - accuracy: 0.9826 - loss: 0.0554\n",
            "Epoch 4/5\n",
            "1875/1875 - 20s - 11ms/step - accuracy: 0.9864 - loss: 0.0417\n",
            "Epoch 5/5\n",
            "1875/1875 - 17s - 9ms/step - accuracy: 0.9895 - loss: 0.0325\n",
            "313/313 - 1s - 3ms/step - accuracy: 0.9783 - loss: 0.0777\n"
          ]
        },
        {
          "output_type": "execute_result",
          "data": {
            "text/plain": [
              "[0.07767539471387863, 0.9782999753952026]"
            ]
          },
          "metadata": {},
          "execution_count": 4
        }
      ]
    },
    {
      "cell_type": "code",
      "source": [
        "random_idx = np.random.choice(len(x_test))\n",
        "x_sample = x_test[random_idx]\n",
        "y_true = y_test[random_idx]\n",
        "y_sample_true = y_test[random_idx]\n",
        "\n",
        "# Add this line to get the model's predictions on the test set\n",
        "y_pred = model.predict(x_test)\n",
        "\n",
        "# Add this line to get the predicted class for each test sample\n",
        "y_sample_pred_classes = np.argmax(y_pred, axis=1)\n",
        "\n",
        "y_sample_pred_class = y_sample_pred_classes[random_idx]\n",
        "\n",
        "plt.title(\"Predicted: {}, True: {}\".format(y_sample_pred_class, y_sample_true), fontsize=12)\n",
        "plt.imshow(x_sample.reshape((28,28)), cmap='gray')\n",
        "\n",
        "\n"
      ],
      "metadata": {
        "colab": {
          "base_uri": "https://localhost:8080/",
          "height": 488
        },
        "id": "JFAiB35cRfzz",
        "outputId": "29b4fab3-1c59-4128-932c-968496b092b0"
      },
      "execution_count": 9,
      "outputs": [
        {
          "output_type": "stream",
          "name": "stdout",
          "text": [
            "\u001b[1m313/313\u001b[0m \u001b[32m━━━━━━━━━━━━━━━━━━━━\u001b[0m\u001b[37m\u001b[0m \u001b[1m1s\u001b[0m 2ms/step\n"
          ]
        },
        {
          "output_type": "execute_result",
          "data": {
            "text/plain": [
              "<matplotlib.image.AxesImage at 0x7cbc86e30a10>"
            ]
          },
          "metadata": {},
          "execution_count": 9
        },
        {
          "output_type": "display_data",
          "data": {
            "text/plain": [
              "<Figure size 640x480 with 1 Axes>"
            ],
            "image/png": "[encoded data removed]"
          },
          "metadata": {}
        }
      ]
    }
  ]
}